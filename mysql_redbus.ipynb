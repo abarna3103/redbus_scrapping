{
 "cells": [
  {
   "cell_type": "code",
   "execution_count": 3,
   "metadata": {},
   "outputs": [
    {
     "name": "stdout",
     "output_type": "stream",
     "text": [
      "Data successfully inserted into MySQL database.\n"
     ]
    }
   ],
   "source": [
    "import pandas as pd\n",
    "from mysql import connector\n",
    "\n",
    "# List of CSV file paths\n",
    "csv_files = [\n",
    "    \"ap_bus_details.csv\", \"assam_bus_details.csv\",\n",
    "    \"himachal_bus_details.csv\", \"kaac_bus_details.csv\", \"kerala_bus_details.csv\",\n",
    "    \"rajasthan_bus_details.csv\", \"sb_bus_details.csv\", \"Telangana_bus_details.csv\",\n",
    "    \"up_bus_details.csv\", \"wb_bus_details.csv\", \"wb2_bus_details.csv\"\n",
    "]\n",
    "\n",
    "# Read each CSV file into a DataFrame and combine them\n",
    "dataframes = [pd.read_csv(file) for file in csv_files]\n",
    "combined_df = pd.concat(dataframes, ignore_index=True)\n",
    "\n",
    "# Add a unique ID column\n",
    "combined_df.insert(0, 'id', range(1, len(combined_df) + 1))\n",
    "\n",
    "# Clean the data\n",
    "if 'Price' in combined_df.columns:\n",
    "    combined_df['Price'] = combined_df['Price'].str.replace('INR ', '', regex=False)\n",
    "\n",
    "if 'Seat_Availability' in combined_df.columns:\n",
    "    combined_df['Seat_Availability'] = combined_df['Seat_Availability'].str.extract(r'(\\d+)')\n",
    "\n",
    "# Drop null values\n",
    "combined_df = combined_df.dropna()\n",
    "\n",
    "# Save the cleaned data to a CSV file\n",
    "combined_csv_file = \"bus_routes.csv\"\n",
    "combined_df.to_csv(combined_csv_file, index=False)\n",
    "\n",
    "# Connect to MySQL\n",
    "myconnection = connector.connect(\n",
    "    host='127.0.0.1', user='root', passwd='123456789', database=\"redbus\"\n",
    ")\n",
    "\n",
    "cursor = myconnection.cursor()\n",
    "\n",
    "# Prepare SQL table schema\n",
    "column_definitions = \", \".join(\n",
    "    f\"`{col}` {'FLOAT' if dtype == 'float64' else 'TEXT' if dtype == 'object' else 'INT'}\"\n",
    "    for col, dtype in zip(combined_df.columns, combined_df.dtypes)\n",
    ")\n",
    "\n",
    "# Create table\n",
    "table_name = \"bus_routes\"\n",
    "cursor.execute(f\"DROP TABLE IF EXISTS {table_name};\")\n",
    "cursor.execute(f\"CREATE TABLE {table_name} ({column_definitions});\")\n",
    "\n",
    "# Prepare parameterized query for safe insertion\n",
    "columns = ', '.join(f'`{col}`' for col in combined_df.columns)\n",
    "placeholders = ', '.join(['%s'] * len(combined_df.columns))\n",
    "query = f\"INSERT INTO {table_name} ({columns}) VALUES ({placeholders})\"\n",
    "\n",
    "# Insert data into the table\n",
    "for _, row in combined_df.iterrows():\n",
    "    cursor.execute(query, tuple(row))\n",
    "\n",
    "# Commit changes and close the connection\n",
    "myconnection.commit()\n",
    "cursor.close()\n",
    "myconnection.close()\n",
    "\n",
    "print(\"Data successfully inserted into MySQL database.\")\n"
   ]
  }
 ],
 "metadata": {
  "kernelspec": {
   "display_name": "Python 3",
   "language": "python",
   "name": "python3"
  },
  "language_info": {
   "codemirror_mode": {
    "name": "ipython",
    "version": 3
   },
   "file_extension": ".py",
   "mimetype": "text/x-python",
   "name": "python",
   "nbconvert_exporter": "python",
   "pygments_lexer": "ipython3",
   "version": "3.12.6"
  }
 },
 "nbformat": 4,
 "nbformat_minor": 2
}
